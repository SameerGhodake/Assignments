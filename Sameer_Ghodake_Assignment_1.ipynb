{
  "nbformat": 4,
  "nbformat_minor": 0,
  "metadata": {
    "colab": {
      "provenance": [],
      "authorship_tag": "ABX9TyN0kU60hGQ7mx1ZAktt9fub",
      "include_colab_link": true
    },
    "kernelspec": {
      "name": "python3",
      "display_name": "Python 3"
    },
    "language_info": {
      "name": "python"
    }
  },
  "cells": [
    {
      "cell_type": "markdown",
      "metadata": {
        "id": "view-in-github",
        "colab_type": "text"
      },
      "source": [
        "<a href=\"https://colab.research.google.com/github/SameerGhodake/Assignments/blob/main/Sameer_Ghodake_Assignment_1.ipynb\" target=\"_parent\"><img src=\"https://colab.research.google.com/assets/colab-badge.svg\" alt=\"Open In Colab\"/></a>"
      ]
    },
    {
      "cell_type": "code",
      "execution_count": null,
      "metadata": {
        "colab": {
          "base_uri": "https://localhost:8080/"
        },
        "id": "Ki-JuWo5Rn5B",
        "outputId": "6fcfb5ec-47f0-4240-c981-6c6d0d77cc3b"
      },
      "outputs": [
        {
          "output_type": "stream",
          "name": "stdout",
          "text": [
            "Enter the value of A: 2\n",
            "Enter the value of B: 3\n",
            "Sum of A & B is : 5\n",
            "Minus of A & B is : -1\n",
            "Multi of A & B is : 6\n",
            "Div of A & B is : 0.6666666666666666\n"
          ]
        }
      ],
      "source": [
        "A= int(input(f\"Enter the value of A: \"))\n",
        "B= int(input(f\"Enter the value of B: \"))\n",
        "print(f\"Sum of A & B is : {A+B}\")\n",
        "print(f\"Minus of A & B is : {A-B}\")\n",
        "print(f\"Multi of A & B is : {A*B}\")\n",
        "print(f\"Div of A & B is : {A/B}\")"
      ]
    },
    {
      "cell_type": "code",
      "source": [
        "name=input(\"First Name: \")\n",
        "surname=input(\"Last Name: \")\n",
        "print(f\"{name}.{surname}@gmail.com\")"
      ],
      "metadata": {
        "colab": {
          "base_uri": "https://localhost:8080/"
        },
        "id": "Re7fCu8rA4Yx",
        "outputId": "b3df9e18-3824-4c85-b052-555d1bfeb797"
      },
      "execution_count": null,
      "outputs": [
        {
          "output_type": "stream",
          "name": "stdout",
          "text": [
            "First Name: aa\n",
            "Last Name: bb\n",
            "aa.bb@gmail.com\n"
          ]
        }
      ]
    },
    {
      "cell_type": "code",
      "source": [],
      "metadata": {
        "id": "Xk8bVWmMYyWn"
      },
      "execution_count": null,
      "outputs": []
    },
    {
      "cell_type": "code",
      "source": [
        "print(\"Hi I'm Sunny\")"
      ],
      "metadata": {
        "colab": {
          "base_uri": "https://localhost:8080/"
        },
        "id": "WEKHAsv1VMjA",
        "outputId": "1cba35f7-aac6-4907-df3c-f1011edc6178"
      },
      "execution_count": null,
      "outputs": [
        {
          "output_type": "stream",
          "name": "stdout",
          "text": [
            "Hi I'm Sunny\n"
          ]
        }
      ]
    },
    {
      "cell_type": "code",
      "source": [
        "print(\"My Address Is 22/3\")"
      ],
      "metadata": {
        "colab": {
          "base_uri": "https://localhost:8080/"
        },
        "id": "PXuKODKaWEay",
        "outputId": "89209cd9-ce9b-44ff-8795-7c6ed6d346c9"
      },
      "execution_count": null,
      "outputs": [
        {
          "output_type": "stream",
          "name": "stdout",
          "text": [
            "My Address Is 22/3\n"
          ]
        }
      ]
    },
    {
      "cell_type": "code",
      "source": [
        "print(\"I earned 20$ daily\")"
      ],
      "metadata": {
        "colab": {
          "base_uri": "https://localhost:8080/"
        },
        "id": "7sFXWxqtYQoc",
        "outputId": "fe389d67-0e09-44f2-ca49-5ffedea33603"
      },
      "execution_count": null,
      "outputs": [
        {
          "output_type": "stream",
          "name": "stdout",
          "text": [
            "I earned 20$ daily\n"
          ]
        }
      ]
    },
    {
      "cell_type": "code",
      "source": [],
      "metadata": {
        "id": "9u05z1O8VaJz"
      },
      "execution_count": null,
      "outputs": []
    },
    {
      "cell_type": "code",
      "source": [
        "name=input(\"First Name: \")\n",
        "surname=input(\"Last Name: \")\n",
        "Birth_date=input(\"Birth Date is :\")\n",
        "print(f\"{name}.{surname}@gmail.com\")"
      ],
      "metadata": {
        "colab": {
          "base_uri": "https://localhost:8080/"
        },
        "outputId": "9bb13a2b-2b25-4c7a-da4c-23b9560f3fda",
        "id": "KiPAcXh1Y0N6"
      },
      "execution_count": null,
      "outputs": [
        {
          "output_type": "stream",
          "name": "stdout",
          "text": [
            "First Name: uu\n",
            "Last Name: ii\n",
            "Birth Date is :28091990\n",
            "uu.ii@gmail.com\n"
          ]
        }
      ]
    },
    {
      "cell_type": "code",
      "source": [
        "a=22.4\n",
        "print(f\"data type before: {type(a)}, value of a is : {a}\")\n",
        "a=int(a)\n",
        "print(f\"data type after: {type(a)}, value of a is : {a}\")"
      ],
      "metadata": {
        "colab": {
          "base_uri": "https://localhost:8080/"
        },
        "id": "hQPw75PPelT-",
        "outputId": "afa717e1-ea81-4081-bef1-8513a6195109"
      },
      "execution_count": null,
      "outputs": [
        {
          "output_type": "stream",
          "name": "stdout",
          "text": [
            "data type before: <class 'float'>, value of a is : 22.4\n",
            "data type after: <class 'int'>, value of a is : 22\n"
          ]
        }
      ]
    }
  ]
}